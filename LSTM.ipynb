{
  "cells": [
    {
      "cell_type": "code",
      "execution_count": 34,
      "metadata": {},
      "outputs": [],
      "source": [
        "import pandas as pd \n"
      ]
    },
    {
      "cell_type": "code",
      "execution_count": null,
      "metadata": {},
      "outputs": [],
      "source": []
    },
    {
      "cell_type": "code",
      "execution_count": 35,
      "metadata": {
        "id": "Cyp46iQ1st9L"
      },
      "outputs": [],
      "source": [
        "import tensorflow\n",
        "\n",
        "import yfinance as yf\n",
        "import json\n",
        "import requests\n",
        "from keras.models import Sequential\n",
        "from keras.layers import Activation, Dense, Dropout, LSTM\n",
        "import matplotlib.pyplot as plt\n",
        "import numpy as np\n",
        "import pandas as pd\n",
        "import seaborn as sns\n",
        "from sklearn.metrics import mean_absolute_error\n",
        "%matplotlib inline"
      ]
    },
    {
      "cell_type": "code",
      "execution_count": 36,
      "metadata": {
        "colab": {
          "base_uri": "https://localhost:8080/",
          "height": 710
        },
        "id": "9OMiYdXjst9R",
        "outputId": "8d40aefb-e1c7-41f1-d8ea-32bb45c8648b"
      },
      "outputs": [
        {
          "name": "stdout",
          "output_type": "stream",
          "text": [
            "[*********************100%***********************]  1 of 1 completed\n"
          ]
        },
        {
          "data": {
            "text/html": [
              "<div>\n",
              "<style scoped>\n",
              "    .dataframe tbody tr th:only-of-type {\n",
              "        vertical-align: middle;\n",
              "    }\n",
              "\n",
              "    .dataframe tbody tr th {\n",
              "        vertical-align: top;\n",
              "    }\n",
              "\n",
              "    .dataframe thead th {\n",
              "        text-align: right;\n",
              "    }\n",
              "</style>\n",
              "<table border=\"1\" class=\"dataframe\">\n",
              "  <thead>\n",
              "    <tr style=\"text-align: right;\">\n",
              "      <th></th>\n",
              "      <th>Open</th>\n",
              "      <th>High</th>\n",
              "      <th>Low</th>\n",
              "      <th>Close</th>\n",
              "      <th>Adj Close</th>\n",
              "      <th>Volume</th>\n",
              "    </tr>\n",
              "    <tr>\n",
              "      <th>Date</th>\n",
              "      <th></th>\n",
              "      <th></th>\n",
              "      <th></th>\n",
              "      <th></th>\n",
              "      <th></th>\n",
              "      <th></th>\n",
              "    </tr>\n",
              "  </thead>\n",
              "  <tbody>\n",
              "    <tr>\n",
              "      <th>2017-11-09</th>\n",
              "      <td>0.001207</td>\n",
              "      <td>0.001415</td>\n",
              "      <td>0.001181</td>\n",
              "      <td>0.001415</td>\n",
              "      <td>0.001415</td>\n",
              "      <td>6259550</td>\n",
              "    </tr>\n",
              "    <tr>\n",
              "      <th>2017-11-10</th>\n",
              "      <td>0.001421</td>\n",
              "      <td>0.001431</td>\n",
              "      <td>0.001125</td>\n",
              "      <td>0.001163</td>\n",
              "      <td>0.001163</td>\n",
              "      <td>4246520</td>\n",
              "    </tr>\n",
              "    <tr>\n",
              "      <th>2017-11-11</th>\n",
              "      <td>0.001146</td>\n",
              "      <td>0.001257</td>\n",
              "      <td>0.001141</td>\n",
              "      <td>0.001201</td>\n",
              "      <td>0.001201</td>\n",
              "      <td>2231080</td>\n",
              "    </tr>\n",
              "    <tr>\n",
              "      <th>2017-11-12</th>\n",
              "      <td>0.001189</td>\n",
              "      <td>0.001210</td>\n",
              "      <td>0.001002</td>\n",
              "      <td>0.001038</td>\n",
              "      <td>0.001038</td>\n",
              "      <td>3288960</td>\n",
              "    </tr>\n",
              "    <tr>\n",
              "      <th>2017-11-13</th>\n",
              "      <td>0.001046</td>\n",
              "      <td>0.001212</td>\n",
              "      <td>0.001019</td>\n",
              "      <td>0.001211</td>\n",
              "      <td>0.001211</td>\n",
              "      <td>2481270</td>\n",
              "    </tr>\n",
              "    <tr>\n",
              "      <th>...</th>\n",
              "      <td>...</td>\n",
              "      <td>...</td>\n",
              "      <td>...</td>\n",
              "      <td>...</td>\n",
              "      <td>...</td>\n",
              "      <td>...</td>\n",
              "    </tr>\n",
              "    <tr>\n",
              "      <th>2022-02-17</th>\n",
              "      <td>0.149050</td>\n",
              "      <td>0.149889</td>\n",
              "      <td>0.138071</td>\n",
              "      <td>0.138552</td>\n",
              "      <td>0.138552</td>\n",
              "      <td>721382126</td>\n",
              "    </tr>\n",
              "    <tr>\n",
              "      <th>2022-02-18</th>\n",
              "      <td>0.138594</td>\n",
              "      <td>0.142097</td>\n",
              "      <td>0.136960</td>\n",
              "      <td>0.138768</td>\n",
              "      <td>0.138768</td>\n",
              "      <td>563817289</td>\n",
              "    </tr>\n",
              "    <tr>\n",
              "      <th>2022-02-19</th>\n",
              "      <td>0.138764</td>\n",
              "      <td>0.145906</td>\n",
              "      <td>0.138751</td>\n",
              "      <td>0.141206</td>\n",
              "      <td>0.141206</td>\n",
              "      <td>655782652</td>\n",
              "    </tr>\n",
              "    <tr>\n",
              "      <th>2022-02-20</th>\n",
              "      <td>0.141197</td>\n",
              "      <td>0.141197</td>\n",
              "      <td>0.135852</td>\n",
              "      <td>0.136868</td>\n",
              "      <td>0.136868</td>\n",
              "      <td>490138547</td>\n",
              "    </tr>\n",
              "    <tr>\n",
              "      <th>2022-02-21</th>\n",
              "      <td>0.136614</td>\n",
              "      <td>0.141234</td>\n",
              "      <td>0.130411</td>\n",
              "      <td>0.131251</td>\n",
              "      <td>0.131251</td>\n",
              "      <td>858148416</td>\n",
              "    </tr>\n",
              "  </tbody>\n",
              "</table>\n",
              "<p>1566 rows × 6 columns</p>\n",
              "</div>"
            ],
            "text/plain": [
              "                Open      High       Low     Close  Adj Close     Volume\n",
              "Date                                                                    \n",
              "2017-11-09  0.001207  0.001415  0.001181  0.001415   0.001415    6259550\n",
              "2017-11-10  0.001421  0.001431  0.001125  0.001163   0.001163    4246520\n",
              "2017-11-11  0.001146  0.001257  0.001141  0.001201   0.001201    2231080\n",
              "2017-11-12  0.001189  0.001210  0.001002  0.001038   0.001038    3288960\n",
              "2017-11-13  0.001046  0.001212  0.001019  0.001211   0.001211    2481270\n",
              "...              ...       ...       ...       ...        ...        ...\n",
              "2022-02-17  0.149050  0.149889  0.138071  0.138552   0.138552  721382126\n",
              "2022-02-18  0.138594  0.142097  0.136960  0.138768   0.138768  563817289\n",
              "2022-02-19  0.138764  0.145906  0.138751  0.141206   0.141206  655782652\n",
              "2022-02-20  0.141197  0.141197  0.135852  0.136868   0.136868  490138547\n",
              "2022-02-21  0.136614  0.141234  0.130411  0.131251   0.131251  858148416\n",
              "\n",
              "[1566 rows x 6 columns]"
            ]
          },
          "execution_count": 36,
          "metadata": {},
          "output_type": "execute_result"
        }
      ],
      "source": [
        "df = yf.download(tickers='DOGE-USD')\n",
        "target_col = 'close'\n",
        "df"
      ]
    },
    {
      "cell_type": "code",
      "execution_count": 37,
      "metadata": {
        "colab": {
          "base_uri": "https://localhost:8080/",
          "height": 693
        },
        "id": "2WNTrxWOst9S",
        "outputId": "308db5c6-5d11-41d6-90bc-69cb38d92b20"
      },
      "outputs": [],
      "source": [
        "def train_test_split(df, test_size=0.2):\n",
        "    split_row = len(df) - int(test_size * len(df))\n",
        "    train_data = df.iloc[:split_row]\n",
        "    test_data = df.iloc[split_row:]\n",
        "    return train_data, test_data"
      ]
    },
    {
      "cell_type": "code",
      "execution_count": 38,
      "metadata": {},
      "outputs": [],
      "source": [
        "train, test = train_test_split(df, test_size=0.2)\n"
      ]
    },
    {
      "cell_type": "code",
      "execution_count": 39,
      "metadata": {},
      "outputs": [],
      "source": [
        "def line_plot(line1, line2, label1=None, label2=None, title='', lw=2):\n",
        "    fig, ax = plt.subplots(1, figsize=(13, 7))\n",
        "    ax.plot(line1, label=label1, linewidth=lw)\n",
        "    ax.plot(line2, label=label2, linewidth=lw)\n",
        "    ax.set_ylabel('price [CAD]', fontsize=14)\n",
        "    ax.set_title(title, fontsize=16)\n",
        "    ax.legend(loc='best', fontsize=16);"
      ]
    },
    {
      "cell_type": "code",
      "execution_count": 40,
      "metadata": {
        "id": "xV60PS01st9U"
      },
      "outputs": [
        {
          "data": {
            "image/png": "[encoded data removed]",
            "text/plain": [
              "<Figure size 936x504 with 1 Axes>"
            ]
          },
          "metadata": {
            "needs_background": "light"
          },
          "output_type": "display_data"
        }
      ],
      "source": [
        "line_plot(train['Close'], test['Close'], 'training', 'test', title='')\n"
      ]
    },
    {
      "cell_type": "code",
      "execution_count": 41,
      "metadata": {
        "colab": {
          "base_uri": "https://localhost:8080/",
          "height": 350
        },
        "id": "6KSBiNTfst9V",
        "outputId": "73a1d715-3f18-43d9-ce82-af6531aa13a5"
      },
      "outputs": [],
      "source": [
        "def normalise_zero_base(df):\n",
        "    return df / df.iloc[0] - 1\n",
        "\n",
        "def normalise_min_max(df):\n",
        "    return (df - df.min()) / (df.max() - df.min())"
      ]
    },
    {
      "cell_type": "code",
      "execution_count": 42,
      "metadata": {
        "id": "gZAetHUwst9W"
      },
      "outputs": [],
      "source": [
        "def extract_window_data(df, window_len=5, zero_base=True):\n",
        "    window_data = []\n",
        "    for idx in range(len(df) - window_len):\n",
        "        tmp = df[idx: (idx + window_len)].copy()\n",
        "        if zero_base:\n",
        "            tmp = normalise_zero_base(tmp)\n",
        "        window_data.append(tmp.values)\n",
        "    return np.array(window_data)\n"
      ]
    },
    {
      "cell_type": "code",
      "execution_count": 43,
      "metadata": {
        "id": "k0yA_dTVst9Y"
      },
      "outputs": [],
      "source": [
        "def extract_window_data(df, window_len=5, zero_base=True):\n",
        "    window_data = []\n",
        "    for idx in range(len(df) - window_len):\n",
        "        tmp = df[idx: (idx + window_len)].copy()\n",
        "        if zero_base:\n",
        "            tmp = normalise_zero_base(tmp)\n",
        "        window_data.append(tmp.values)\n",
        "    return np.array(window_data)\n"
      ]
    },
    {
      "cell_type": "code",
      "execution_count": 44,
      "metadata": {
        "id": "FgdL9U8Hst9a"
      },
      "outputs": [],
      "source": [
        "def prepare_data(df, target_col, window_len=10, zero_base=True, test_size=0.2):\n",
        "    train_data, test_data = train_test_split(df, test_size=test_size)\n",
        "    X_train = extract_window_data(train_data, window_len, zero_base)\n",
        "    X_test = extract_window_data(test_data, window_len, zero_base)\n",
        "    y_train = train_data[target_col][window_len:].values\n",
        "    y_test = test_data[target_col][window_len:].values\n",
        "    if zero_base:\n",
        "        y_train = y_train / train_data[target_col][:-window_len].values - 1\n",
        "        y_test = y_test / test_data[target_col][:-window_len].values - 1\n",
        "\n",
        "    return train_data, test_data, X_train, X_test, y_train, y_test\n"
      ]
    },
    {
      "cell_type": "code",
      "execution_count": 45,
      "metadata": {
        "id": "upkjPgQNst9b"
      },
      "outputs": [],
      "source": [
        "def build_lstm_model(input_data, output_size, neurons=100, activ_func='linear',\n",
        "                     dropout=0.2, loss='mse', optimizer='adam'):\n",
        "    model = Sequential()\n",
        "    model.add(LSTM(neurons, input_shape=(input_data.shape[1], input_data.shape[2])))\n",
        "    model.add(Dropout(dropout))\n",
        "    model.add(Dense(units=output_size))\n",
        "    model.add(Activation(activ_func))\n",
        "\n",
        "    model.compile(loss=loss, optimizer=optimizer)\n",
        "    return model"
      ]
    },
    {
      "cell_type": "code",
      "execution_count": 46,
      "metadata": {
        "id": "QlmUCxlnst9c"
      },
      "outputs": [],
      "source": [
        "np.random.seed(42)\n",
        "window_len = 5\n",
        "test_size = 0.2\n",
        "zero_base = True\n",
        "lstm_neurons = 100\n",
        "epochs = 20\n",
        "batch_size = 32\n",
        "loss = 'mse'\n",
        "dropout = 0.2\n",
        "optimizer = 'adam'\n"
      ]
    },
    {
      "cell_type": "code",
      "execution_count": 47,
      "metadata": {
        "id": "Z3Bm0ixWst9d"
      },
      "outputs": [],
      "source": [
        "train, test, X_train, X_test, y_train, y_test = prepare_data(\n",
        "    df, 'Close', window_len=window_len, zero_base=zero_base, test_size=test_size)\n"
      ]
    },
    {
      "cell_type": "code",
      "execution_count": 48,
      "metadata": {
        "colab": {
          "base_uri": "https://localhost:8080/"
        },
        "id": "xsbqZlCLst9d",
        "outputId": "d89506a4-a26d-4f5d-d59c-1afeac50a137"
      },
      "outputs": [
        {
          "name": "stdout",
          "output_type": "stream",
          "text": [
            "Epoch 1/20\n",
            "39/39 [==============================] - 0s 11ms/step - loss: 0.0664\n",
            "Epoch 2/20\n",
            "39/39 [==============================] - 0s 5ms/step - loss: 0.0366\n",
            "Epoch 3/20\n",
            "39/39 [==============================] - 0s 5ms/step - loss: 0.0304\n",
            "Epoch 4/20\n",
            "39/39 [==============================] - 0s 5ms/step - loss: 0.0282\n",
            "Epoch 5/20\n",
            "39/39 [==============================] - 0s 6ms/step - loss: 0.0255\n",
            "Epoch 6/20\n",
            "39/39 [==============================] - 0s 8ms/step - loss: 0.0237\n",
            "Epoch 7/20\n",
            "39/39 [==============================] - 0s 9ms/step - loss: 0.0229\n",
            "Epoch 8/20\n",
            "39/39 [==============================] - 0s 9ms/step - loss: 0.0213\n",
            "Epoch 9/20\n",
            "39/39 [==============================] - 0s 10ms/step - loss: 0.0226\n",
            "Epoch 10/20\n",
            "39/39 [==============================] - 0s 8ms/step - loss: 0.0209\n",
            "Epoch 11/20\n",
            "39/39 [==============================] - 0s 6ms/step - loss: 0.0173\n",
            "Epoch 12/20\n",
            "39/39 [==============================] - 0s 6ms/step - loss: 0.0192\n",
            "Epoch 13/20\n",
            "39/39 [==============================] - 0s 6ms/step - loss: 0.0198\n",
            "Epoch 14/20\n",
            "39/39 [==============================] - 0s 6ms/step - loss: 0.0176\n",
            "Epoch 15/20\n",
            "39/39 [==============================] - 0s 6ms/step - loss: 0.0179\n",
            "Epoch 16/20\n",
            "39/39 [==============================] - 0s 6ms/step - loss: 0.0201\n",
            "Epoch 17/20\n",
            "39/39 [==============================] - 0s 6ms/step - loss: 0.0193\n",
            "Epoch 18/20\n",
            "39/39 [==============================] - 0s 6ms/step - loss: 0.0198\n",
            "Epoch 19/20\n",
            "39/39 [==============================] - 0s 6ms/step - loss: 0.0215\n",
            "Epoch 20/20\n",
            "39/39 [==============================] - 0s 6ms/step - loss: 0.0204\n"
          ]
        }
      ],
      "source": [
        "model = build_lstm_model(\n",
        "    X_train, output_size=1, neurons=lstm_neurons, dropout=dropout, loss=loss,\n",
        "    optimizer=optimizer)\n",
        "history = model.fit(\n",
        "    X_train, y_train, epochs=epochs, batch_size=batch_size, verbose=1, shuffle=True)\n"
      ]
    },
    {
      "cell_type": "code",
      "execution_count": 49,
      "metadata": {
        "colab": {
          "base_uri": "https://localhost:8080/"
        },
        "id": "idbs6FMbst9e",
        "outputId": "3c30a85a-8529-4a0f-9727-5b799897b7b8"
      },
      "outputs": [
        {
          "data": {
            "text/plain": [
              "0.05212045696331409"
            ]
          },
          "execution_count": 49,
          "metadata": {},
          "output_type": "execute_result"
        }
      ],
      "source": [
        "targets = test['Close'][window_len:]\n",
        "preds = model.predict(X_test).squeeze()\n",
        "mean_absolute_error(preds, y_test)"
      ]
    },
    {
      "cell_type": "code",
      "execution_count": 50,
      "metadata": {
        "colab": {
          "base_uri": "https://localhost:8080/",
          "height": 343
        },
        "id": "jN1cEbOmst9e",
        "outputId": "a3c08345-2c6b-4302-8613-d169caf367e3"
      },
      "outputs": [
        {
          "data": {
            "image/png": "[encoded data removed]",
            "text/plain": [
              "<Figure size 936x504 with 1 Axes>"
            ]
          },
          "metadata": {
            "needs_background": "light"
          },
          "output_type": "display_data"
        }
      ],
      "source": [
        "preds = test['Close'].values[:-window_len] * (preds + 1)\n",
        "preds = pd.Series(index=targets.index, data=preds)\n",
        "line_plot(targets, preds, 'actual', 'prediction', lw=3)"
      ]
    }
  ],
  "metadata": {
    "accelerator": "GPU",
    "colab": {
      "collapsed_sections": [],
      "name": "LSTM.ipynb",
      "provenance": []
    },
    "kernelspec": {
      "display_name": "Python 3",
      "language": "python",
      "name": "python3"
    },
    "language_info": {
      "codemirror_mode": {
        "name": "ipython",
        "version": 3
      },
      "file_extension": ".py",
      "mimetype": "text/x-python",
      "name": "python",
      "nbconvert_exporter": "python",
      "pygments_lexer": "ipython3",
      "version": "3.7.11"
    }
  },
  "nbformat": 4,
  "nbformat_minor": 0
}
