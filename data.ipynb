{
 "cells": [
  {
   "cell_type": "code",
   "execution_count": 13,
   "metadata": {},
   "outputs": [
    {
     "name": "stdout",
     "output_type": "stream",
     "text": [
      "Requirement already satisfied: yfinance in c:\\users\\soumm\\anaconda3\\lib\\site-packages (0.1.70)"
     ]
    },
    {
     "name": "stderr",
     "output_type": "stream",
     "text": [
      "WARNING: You are using pip version 21.1.3; however, version 22.0.3 is available.\n",
      "You should consider upgrading via the 'c:\\users\\soumm\\anaconda3\\python.exe -m pip install --upgrade pip' command.\n"
     ]
    },
    {
     "name": "stdout",
     "output_type": "stream",
     "text": [
      "\n",
      "Requirement already satisfied: lxml>=4.5.1 in c:\\users\\soumm\\anaconda3\\lib\\site-packages (from yfinance) (4.5.2)\n",
      "Requirement already satisfied: pandas>=0.24.0 in c:\\users\\soumm\\anaconda3\\lib\\site-packages (from yfinance) (1.0.5)\n",
      "Requirement already satisfied: requests>=2.26 in c:\\users\\soumm\\anaconda3\\lib\\site-packages (from yfinance) (2.27.1)\n",
      "Requirement already satisfied: multitasking>=0.0.7 in c:\\users\\soumm\\anaconda3\\lib\\site-packages (from yfinance) (0.0.10)\n",
      "Requirement already satisfied: numpy>=1.15 in c:\\users\\soumm\\anaconda3\\lib\\site-packages (from yfinance) (1.18.5)\n",
      "Requirement already satisfied: python-dateutil>=2.6.1 in c:\\users\\soumm\\anaconda3\\lib\\site-packages (from pandas>=0.24.0->yfinance) (2.8.1)\n",
      "Requirement already satisfied: pytz>=2017.2 in c:\\users\\soumm\\anaconda3\\lib\\site-packages (from pandas>=0.24.0->yfinance) (2020.1)\n",
      "Requirement already satisfied: six>=1.5 in c:\\users\\soumm\\anaconda3\\lib\\site-packages (from python-dateutil>=2.6.1->pandas>=0.24.0->yfinance) (1.15.0)\n",
      "Requirement already satisfied: certifi>=2017.4.17 in c:\\users\\soumm\\anaconda3\\lib\\site-packages (from requests>=2.26->yfinance) (2020.6.20)\n",
      "Requirement already satisfied: urllib3<1.27,>=1.21.1 in c:\\users\\soumm\\anaconda3\\lib\\site-packages (from requests>=2.26->yfinance) (1.25.9)\n",
      "Requirement already satisfied: charset-normalizer~=2.0.0 in c:\\users\\soumm\\anaconda3\\lib\\site-packages (from requests>=2.26->yfinance) (2.0.11)\n",
      "Requirement already satisfied: idna<4,>=2.5 in c:\\users\\soumm\\anaconda3\\lib\\site-packages (from requests>=2.26->yfinance) (2.10)\n",
      "Collecting yahoofinancials"
     ]
    },
    {
     "name": "stderr",
     "output_type": "stream",
     "text": [
      "WARNING: You are using pip version 21.1.3; however, version 22.0.3 is available.\n",
      "You should consider upgrading via the 'c:\\users\\soumm\\anaconda3\\python.exe -m pip install --upgrade pip' command.\n"
     ]
    },
    {
     "name": "stdout",
     "output_type": "stream",
     "text": [
      "\n",
      "  Downloading yahoofinancials-1.6.tar.gz (27 kB)\n",
      "Requirement already satisfied: beautifulsoup4 in c:\\users\\soumm\\anaconda3\\lib\\site-packages (from yahoofinancials) (4.9.0)\n",
      "Requirement already satisfied: pytz in c:\\users\\soumm\\anaconda3\\lib\\site-packages (from yahoofinancials) (2020.1)\n",
      "Requirement already satisfied: soupsieve>1.2 in c:\\users\\soumm\\anaconda3\\lib\\site-packages (from beautifulsoup4->yahoofinancials) (2.0.1)\n",
      "Building wheels for collected packages: yahoofinancials\n",
      "  Building wheel for yahoofinancials (setup.py): started\n",
      "  Building wheel for yahoofinancials (setup.py): finished with status 'done'\n",
      "  Created wheel for yahoofinancials: filename=yahoofinancials-1.6-py3-none-any.whl size=15194 sha256=26d317c47b5c3a2f8fd33440ee44265d72d884581dba7ebd93cbe88975ca4aff\n",
      "  Stored in directory: c:\\users\\soumm\\appdata\\local\\pip\\cache\\wheels\\6a\\90\\0c\\08c7ac2ce60b9ac91529417d471e59244f9f96848c86f14809\n",
      "Successfully built yahoofinancials\n",
      "Installing collected packages: yahoofinancials\n",
      "Successfully installed yahoofinancials-1.6\n"
     ]
    }
   ],
   "source": [
    "!pip install yfinance\n",
    "!pip install yahoofinancials\n"
   ]
  },
  {
   "cell_type": "code",
   "execution_count": 17,
   "metadata": {},
   "outputs": [
    {
     "name": "stdout",
     "output_type": "stream",
     "text": [
      "<bound method DataFrame.info of                 Open      High       Low     Close  Adj Close      Volume\n",
      "Date                                                                     \n",
      "2020-12-31  0.004636  0.004743  0.004553  0.004682   0.004682    85498337\n",
      "2021-01-01  0.004681  0.005685  0.004615  0.005685   0.005685   228961515\n",
      "2021-01-02  0.005686  0.013698  0.005584  0.010615   0.010615  3421562680\n",
      "2021-01-03  0.010602  0.013867  0.009409  0.009771   0.009771  2707003608\n",
      "2021-01-04  0.009785  0.011421  0.007878  0.009767   0.009767  1372398979\n",
      "...              ...       ...       ...       ...        ...         ...\n",
      "2021-03-29  0.053678  0.054651  0.053175  0.054052   0.054052   537919140\n",
      "2021-03-30  0.054052  0.055434  0.053697  0.053900   0.053900   728906171\n",
      "2021-03-31  0.053902  0.054468  0.052269  0.053657   0.053657   653389282\n",
      "2021-04-01  0.053655  0.070111  0.053644  0.061986   0.061986  5816046822\n",
      "2021-04-02  0.061968  0.062249  0.057333  0.057664   0.057664  2166925111\n",
      "\n",
      "[93 rows x 6 columns]>\n"
     ]
    }
   ],
   "source": [
    "import yfinance as yf\n",
    "\n",
    "doge_df = yf.download('DOGE-USD',\n",
    "         start='2021-01-01',\n",
    "         end='2021-04-02',\n",
    "         progress=False)\n",
    "print(doge_df.info) \n"
   ]
  },
  {
   "cell_type": "code",
   "execution_count": 18,
   "metadata": {},
   "outputs": [
    {
     "data": {
      "text/html": [
       "<div>\n",
       "<style scoped>\n",
       "    .dataframe tbody tr th:only-of-type {\n",
       "        vertical-align: middle;\n",
       "    }\n",
       "\n",
       "    .dataframe tbody tr th {\n",
       "        vertical-align: top;\n",
       "    }\n",
       "\n",
       "    .dataframe thead th {\n",
       "        text-align: right;\n",
       "    }\n",
       "</style>\n",
       "<table border=\"1\" class=\"dataframe\">\n",
       "  <thead>\n",
       "    <tr style=\"text-align: right;\">\n",
       "      <th></th>\n",
       "      <th>Open</th>\n",
       "      <th>High</th>\n",
       "      <th>Low</th>\n",
       "      <th>Close</th>\n",
       "      <th>Adj Close</th>\n",
       "      <th>Volume</th>\n",
       "    </tr>\n",
       "    <tr>\n",
       "      <th>Date</th>\n",
       "      <th></th>\n",
       "      <th></th>\n",
       "      <th></th>\n",
       "      <th></th>\n",
       "      <th></th>\n",
       "      <th></th>\n",
       "    </tr>\n",
       "  </thead>\n",
       "  <tbody>\n",
       "    <tr>\n",
       "      <th>2020-12-31</th>\n",
       "      <td>0.004636</td>\n",
       "      <td>0.004743</td>\n",
       "      <td>0.004553</td>\n",
       "      <td>0.004682</td>\n",
       "      <td>0.004682</td>\n",
       "      <td>85498337</td>\n",
       "    </tr>\n",
       "    <tr>\n",
       "      <th>2021-01-01</th>\n",
       "      <td>0.004681</td>\n",
       "      <td>0.005685</td>\n",
       "      <td>0.004615</td>\n",
       "      <td>0.005685</td>\n",
       "      <td>0.005685</td>\n",
       "      <td>228961515</td>\n",
       "    </tr>\n",
       "    <tr>\n",
       "      <th>2021-01-02</th>\n",
       "      <td>0.005686</td>\n",
       "      <td>0.013698</td>\n",
       "      <td>0.005584</td>\n",
       "      <td>0.010615</td>\n",
       "      <td>0.010615</td>\n",
       "      <td>3421562680</td>\n",
       "    </tr>\n",
       "    <tr>\n",
       "      <th>2021-01-03</th>\n",
       "      <td>0.010602</td>\n",
       "      <td>0.013867</td>\n",
       "      <td>0.009409</td>\n",
       "      <td>0.009771</td>\n",
       "      <td>0.009771</td>\n",
       "      <td>2707003608</td>\n",
       "    </tr>\n",
       "    <tr>\n",
       "      <th>2021-01-04</th>\n",
       "      <td>0.009785</td>\n",
       "      <td>0.011421</td>\n",
       "      <td>0.007878</td>\n",
       "      <td>0.009767</td>\n",
       "      <td>0.009767</td>\n",
       "      <td>1372398979</td>\n",
       "    </tr>\n",
       "  </tbody>\n",
       "</table>\n",
       "</div>"
      ],
      "text/plain": [
       "                Open      High       Low     Close  Adj Close      Volume\n",
       "Date                                                                     \n",
       "2020-12-31  0.004636  0.004743  0.004553  0.004682   0.004682    85498337\n",
       "2021-01-01  0.004681  0.005685  0.004615  0.005685   0.005685   228961515\n",
       "2021-01-02  0.005686  0.013698  0.005584  0.010615   0.010615  3421562680\n",
       "2021-01-03  0.010602  0.013867  0.009409  0.009771   0.009771  2707003608\n",
       "2021-01-04  0.009785  0.011421  0.007878  0.009767   0.009767  1372398979"
      ]
     },
     "execution_count": 18,
     "metadata": {},
     "output_type": "execute_result"
    }
   ],
   "source": [
    "doge_df.head()"
   ]
  },
  {
   "cell_type": "code",
   "execution_count": 20,
   "metadata": {},
   "outputs": [],
   "source": [
    "doge_df.to_csv(\"data/doge_data.csv\")"
   ]
  }
 ],
 "metadata": {
  "interpreter": {
   "hash": "ba291a5e91cd844a85d28daef45e46da77a3dda7d7c68df2e1278e6d00c1e7aa"
  },
  "kernelspec": {
   "display_name": "Python 3.8.3 64-bit ('base': conda)",
   "language": "python",
   "name": "python3"
  },
  "language_info": {
   "codemirror_mode": {
    "name": "ipython",
    "version": 3
   },
   "file_extension": ".py",
   "mimetype": "text/x-python",
   "name": "python",
   "nbconvert_exporter": "python",
   "pygments_lexer": "ipython3",
   "version": "3.8.3"
  },
  "orig_nbformat": 4
 },
 "nbformat": 4,
 "nbformat_minor": 2
}
