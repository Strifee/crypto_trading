{
 "cells": [
  {
   "cell_type": "code",
   "execution_count": 13,
   "metadata": {},
   "outputs": [
    {
     "name": "stdout",
     "output_type": "stream",
     "text": [
      "Requirement already satisfied: yfinance in c:\\users\\soumm\\anaconda3\\lib\\site-packages (0.1.70)"
     ]
    },
    {
     "name": "stderr",
     "output_type": "stream",
     "text": [
      "WARNING: You are using pip version 21.1.3; however, version 22.0.3 is available.\n",
      "You should consider upgrading via the 'c:\\users\\soumm\\anaconda3\\python.exe -m pip install --upgrade pip' command.\n"
     ]
    },
    {
     "name": "stdout",
     "output_type": "stream",
     "text": [
      "\n",
      "Requirement already satisfied: lxml>=4.5.1 in c:\\users\\soumm\\anaconda3\\lib\\site-packages (from yfinance) (4.5.2)\n",
      "Requirement already satisfied: pandas>=0.24.0 in c:\\users\\soumm\\anaconda3\\lib\\site-packages (from yfinance) (1.0.5)\n",
      "Requirement already satisfied: requests>=2.26 in c:\\users\\soumm\\anaconda3\\lib\\site-packages (from yfinance) (2.27.1)\n",
      "Requirement already satisfied: multitasking>=0.0.7 in c:\\users\\soumm\\anaconda3\\lib\\site-packages (from yfinance) (0.0.10)\n",
      "Requirement already satisfied: numpy>=1.15 in c:\\users\\soumm\\anaconda3\\lib\\site-packages (from yfinance) (1.18.5)\n",
      "Requirement already satisfied: python-dateutil>=2.6.1 in c:\\users\\soumm\\anaconda3\\lib\\site-packages (from pandas>=0.24.0->yfinance) (2.8.1)\n",
      "Requirement already satisfied: pytz>=2017.2 in c:\\users\\soumm\\anaconda3\\lib\\site-packages (from pandas>=0.24.0->yfinance) (2020.1)\n",
      "Requirement already satisfied: six>=1.5 in c:\\users\\soumm\\anaconda3\\lib\\site-packages (from python-dateutil>=2.6.1->pandas>=0.24.0->yfinance) (1.15.0)\n",
      "Requirement already satisfied: certifi>=2017.4.17 in c:\\users\\soumm\\anaconda3\\lib\\site-packages (from requests>=2.26->yfinance) (2020.6.20)\n",
      "Requirement already satisfied: urllib3<1.27,>=1.21.1 in c:\\users\\soumm\\anaconda3\\lib\\site-packages (from requests>=2.26->yfinance) (1.25.9)\n",
      "Requirement already satisfied: charset-normalizer~=2.0.0 in c:\\users\\soumm\\anaconda3\\lib\\site-packages (from requests>=2.26->yfinance) (2.0.11)\n",
      "Requirement already satisfied: idna<4,>=2.5 in c:\\users\\soumm\\anaconda3\\lib\\site-packages (from requests>=2.26->yfinance) (2.10)\n",
      "Collecting yahoofinancials"
     ]
    },
    {
     "name": "stderr",
     "output_type": "stream",
     "text": [
      "WARNING: You are using pip version 21.1.3; however, version 22.0.3 is available.\n",
      "You should consider upgrading via the 'c:\\users\\soumm\\anaconda3\\python.exe -m pip install --upgrade pip' command.\n"
     ]
    },
    {
     "name": "stdout",
     "output_type": "stream",
     "text": [
      "\n",
      "  Downloading yahoofinancials-1.6.tar.gz (27 kB)\n",
      "Requirement already satisfied: beautifulsoup4 in c:\\users\\soumm\\anaconda3\\lib\\site-packages (from yahoofinancials) (4.9.0)\n",
      "Requirement already satisfied: pytz in c:\\users\\soumm\\anaconda3\\lib\\site-packages (from yahoofinancials) (2020.1)\n",
      "Requirement already satisfied: soupsieve>1.2 in c:\\users\\soumm\\anaconda3\\lib\\site-packages (from beautifulsoup4->yahoofinancials) (2.0.1)\n",
      "Building wheels for collected packages: yahoofinancials\n",
      "  Building wheel for yahoofinancials (setup.py): started\n",
      "  Building wheel for yahoofinancials (setup.py): finished with status 'done'\n",
      "  Created wheel for yahoofinancials: filename=yahoofinancials-1.6-py3-none-any.whl size=15194 sha256=26d317c47b5c3a2f8fd33440ee44265d72d884581dba7ebd93cbe88975ca4aff\n",
      "  Stored in directory: c:\\users\\soumm\\appdata\\local\\pip\\cache\\wheels\\6a\\90\\0c\\08c7ac2ce60b9ac91529417d471e59244f9f96848c86f14809\n",
      "Successfully built yahoofinancials\n",
      "Installing collected packages: yahoofinancials\n",
      "Successfully installed yahoofinancials-1.6\n"
     ]
    }
   ],
   "source": [
    "!pip install yfinance\n",
    "!pip install yahoofinancials\n"
   ]
  },
  {
   "cell_type": "code",
   "execution_count": 21,
   "metadata": {},
   "outputs": [
    {
     "name": "stdout",
     "output_type": "stream",
     "text": [
      "<bound method DataFrame.info of                                Open      High       Low     Close  Adj Close  \\\n",
      "2020-12-31 23:00:00+00:00  0.004672  0.004704  0.004648  0.004683   0.004683   \n",
      "2021-01-01 00:00:00+00:00  0.004681  0.004703  0.004615  0.004693   0.004693   \n",
      "2021-01-01 01:00:00+00:00  0.004693  0.004752  0.004689  0.004739   0.004739   \n",
      "2021-01-01 02:00:00+00:00  0.004738  0.004752  0.004729  0.004750   0.004750   \n",
      "2021-01-01 03:00:00+00:00  0.004750  0.004983  0.004750  0.004978   0.004978   \n",
      "...                             ...       ...       ...       ...        ...   \n",
      "2021-04-01 18:00:00+00:00  0.058733  0.059011  0.057618  0.058724   0.058724   \n",
      "2021-04-01 19:00:00+00:00  0.058836  0.059053  0.058329  0.058545   0.058545   \n",
      "2021-04-01 20:00:00+00:00  0.058543  0.060973  0.058543  0.059997   0.059997   \n",
      "2021-04-01 21:00:00+00:00  0.059989  0.059989  0.059005  0.059294   0.059294   \n",
      "2021-04-01 22:00:00+00:00  0.059358  0.060634  0.059358  0.060175   0.060175   \n",
      "\n",
      "                              Volume  \n",
      "2020-12-31 23:00:00+00:00          0  \n",
      "2021-01-01 00:00:00+00:00          0  \n",
      "2021-01-01 01:00:00+00:00          0  \n",
      "2021-01-01 02:00:00+00:00          0  \n",
      "2021-01-01 03:00:00+00:00    9477800  \n",
      "...                              ...  \n",
      "2021-04-01 18:00:00+00:00  173274112  \n",
      "2021-04-01 19:00:00+00:00   75353600  \n",
      "2021-04-01 20:00:00+00:00  252666880  \n",
      "2021-04-01 21:00:00+00:00   56687104  \n",
      "2021-04-01 22:00:00+00:00   99454976  \n",
      "\n",
      "[2179 rows x 6 columns]>\n"
     ]
    }
   ],
   "source": [
    "import yfinance as yf\n",
    "\n",
    "doge_df = yf.download('DOGE-USD',\n",
    "         start='2021-01-01',\n",
    "         end='2021-04-02',\n",
    "         interval=\"1h\", \n",
    "         progress=False)\n",
    "print(doge_df.info) \n"
   ]
  },
  {
   "cell_type": "code",
   "execution_count": 23,
   "metadata": {},
   "outputs": [
    {
     "data": {
      "text/html": [
       "<div>\n",
       "<style scoped>\n",
       "    .dataframe tbody tr th:only-of-type {\n",
       "        vertical-align: middle;\n",
       "    }\n",
       "\n",
       "    .dataframe tbody tr th {\n",
       "        vertical-align: top;\n",
       "    }\n",
       "\n",
       "    .dataframe thead th {\n",
       "        text-align: right;\n",
       "    }\n",
       "</style>\n",
       "<table border=\"1\" class=\"dataframe\">\n",
       "  <thead>\n",
       "    <tr style=\"text-align: right;\">\n",
       "      <th></th>\n",
       "      <th>Open</th>\n",
       "      <th>High</th>\n",
       "      <th>Low</th>\n",
       "      <th>Close</th>\n",
       "      <th>Adj Close</th>\n",
       "      <th>Volume</th>\n",
       "    </tr>\n",
       "  </thead>\n",
       "  <tbody>\n",
       "    <tr>\n",
       "      <th>2020-12-31 23:00:00+00:00</th>\n",
       "      <td>0.004672</td>\n",
       "      <td>0.004704</td>\n",
       "      <td>0.004648</td>\n",
       "      <td>0.004683</td>\n",
       "      <td>0.004683</td>\n",
       "      <td>0</td>\n",
       "    </tr>\n",
       "    <tr>\n",
       "      <th>2021-01-01 00:00:00+00:00</th>\n",
       "      <td>0.004681</td>\n",
       "      <td>0.004703</td>\n",
       "      <td>0.004615</td>\n",
       "      <td>0.004693</td>\n",
       "      <td>0.004693</td>\n",
       "      <td>0</td>\n",
       "    </tr>\n",
       "    <tr>\n",
       "      <th>2021-01-01 01:00:00+00:00</th>\n",
       "      <td>0.004693</td>\n",
       "      <td>0.004752</td>\n",
       "      <td>0.004689</td>\n",
       "      <td>0.004739</td>\n",
       "      <td>0.004739</td>\n",
       "      <td>0</td>\n",
       "    </tr>\n",
       "    <tr>\n",
       "      <th>2021-01-01 02:00:00+00:00</th>\n",
       "      <td>0.004738</td>\n",
       "      <td>0.004752</td>\n",
       "      <td>0.004729</td>\n",
       "      <td>0.004750</td>\n",
       "      <td>0.004750</td>\n",
       "      <td>0</td>\n",
       "    </tr>\n",
       "    <tr>\n",
       "      <th>2021-01-01 03:00:00+00:00</th>\n",
       "      <td>0.004750</td>\n",
       "      <td>0.004983</td>\n",
       "      <td>0.004750</td>\n",
       "      <td>0.004978</td>\n",
       "      <td>0.004978</td>\n",
       "      <td>9477800</td>\n",
       "    </tr>\n",
       "  </tbody>\n",
       "</table>\n",
       "</div>"
      ],
      "text/plain": [
       "                               Open      High       Low     Close  Adj Close  \\\n",
       "2020-12-31 23:00:00+00:00  0.004672  0.004704  0.004648  0.004683   0.004683   \n",
       "2021-01-01 00:00:00+00:00  0.004681  0.004703  0.004615  0.004693   0.004693   \n",
       "2021-01-01 01:00:00+00:00  0.004693  0.004752  0.004689  0.004739   0.004739   \n",
       "2021-01-01 02:00:00+00:00  0.004738  0.004752  0.004729  0.004750   0.004750   \n",
       "2021-01-01 03:00:00+00:00  0.004750  0.004983  0.004750  0.004978   0.004978   \n",
       "\n",
       "                            Volume  \n",
       "2020-12-31 23:00:00+00:00        0  \n",
       "2021-01-01 00:00:00+00:00        0  \n",
       "2021-01-01 01:00:00+00:00        0  \n",
       "2021-01-01 02:00:00+00:00        0  \n",
       "2021-01-01 03:00:00+00:00  9477800  "
      ]
     },
     "execution_count": 23,
     "metadata": {},
     "output_type": "execute_result"
    }
   ],
   "source": [
    "doge_df.head()"
   ]
  },
  {
   "cell_type": "code",
   "execution_count": 24,
   "metadata": {},
   "outputs": [],
   "source": [
    "doge_df.to_csv(\"data/doge_data.csv\")"
   ]
  }
 ],
 "metadata": {
  "interpreter": {
   "hash": "ba291a5e91cd844a85d28daef45e46da77a3dda7d7c68df2e1278e6d00c1e7aa"
  },
  "kernelspec": {
   "display_name": "Python 3.8.3 64-bit ('base': conda)",
   "language": "python",
   "name": "python3"
  },
  "language_info": {
   "codemirror_mode": {
    "name": "ipython",
    "version": 3
   },
   "file_extension": ".py",
   "mimetype": "text/x-python",
   "name": "python",
   "nbconvert_exporter": "python",
   "pygments_lexer": "ipython3",
   "version": "3.8.3"
  },
  "orig_nbformat": 4
 },
 "nbformat": 4,
 "nbformat_minor": 2
}
